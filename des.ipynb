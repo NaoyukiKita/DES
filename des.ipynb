{
 "cells": [
  {
   "attachments": {},
   "cell_type": "markdown",
   "metadata": {},
   "source": [
    "This code is based on *Introduction to Cryptgraphy*, Chapter 5."
   ]
  },
  {
   "cell_type": "code",
   "execution_count": 16,
   "metadata": {},
   "outputs": [],
   "source": [
    "import os\n",
    "\n",
    "import numpy as np\n",
    "import pandas as pd\n",
    "\n",
    "class DES():\n",
    "    def __init__(self, key):\n",
    "        self.des_key_bin = self.__hex_to_bin(key)\n",
    "        if self.des_key_bin.shape[0] != 64:\n",
    "            print('ERROR: key should be a 16-digit hexadecimal number.')\n",
    "            return\n",
    "        self.IP = self.__load_array('./modules/Initial_permutaion/IP.csv')\n",
    "        self.IP_inv = self.__load_array('./modules/Initial_permutaion/IP_inv.csv')\n",
    "        self.PC1 = self.__load_array('./modules/PC/PC1.csv')\n",
    "        self.PC2 = self.__load_array('./modules/PC/PC2.csv')\n",
    "        self.E = self.__load_array('./modules/Internal_block_cipher/E.csv')\n",
    "        self.P = self.__load_array('./modules/Internal_block_cipher/P.csv')\n",
    "        self.S = np.zeros((8, 4, 16))\n",
    "        for i in range(8):\n",
    "            path = f'./modules/Internal_block_cipher/S-boxes/S-{i + 1}.csv'\n",
    "            self.S[i] = np.array(pd.read_csv(path, header=None, dtype=int).values)\n",
    "        self.values = [1] * 16\n",
    "        for i in range(16):\n",
    "            if i in {1, 2, 9, 16}: continue\n",
    "            self.values[i] = 2\n",
    "\n",
    "        return\n",
    "    \n",
    "    def encrypt(self, plain):\n",
    "        plain_bin = self.__hex_to_bin(plain)\n",
    "        if plain_bin.shape[0] != 64:\n",
    "            print('ERROR: plain text should be a 16-digit hexadecimal number.')\n",
    "            return\n",
    "        permuted = self.__permute(plain_bin, self.IP)\n",
    "        tmp = self.__Feistel_encrypt(permuted, r=16)\n",
    "        cipher = self.__permute(tmp, self.IP_inv)\n",
    "\n",
    "        return cipher\n",
    "\n",
    "    \n",
    "    def __load_array(self, path):\n",
    "        return np.array(pd.read_csv(path, header=None, dtype=int).values).reshape(-1)\n",
    "    \n",
    "    def __hex_to_bin(self, hex):\n",
    "        return np.array([list(bin(int(c, 16))[2:].zfill(4)) for c in hex], dtype=int).reshape(-1,)\n",
    "    \n",
    "    def __permute(self, text, indices):\n",
    "        return text[indices - 1]\n",
    "\n",
    "    def __Feistel_encrypt(self, text, r):\n",
    "        length = text.shape[0]\n",
    "        L = np.zeros((r, length // 2), dtype=int)\n",
    "        R = np.zeros((r, length // 2), dtype=int)\n",
    "\n",
    "        L[0] = text[:length // 2]\n",
    "        R[0] = text[length // 2:]\n",
    "\n",
    "        C = np.zeros((r, 28), dtype=int)\n",
    "        D = np.zeros((r, 28), dtype=int)\n",
    "        round_keys = np.zeros((r, 48), dtype=int)\n",
    "        C[0], D[0] = self.__get_initial_CD()\n",
    "        for i in range(1, r):\n",
    "            C[i], D[i] = self.__update_CD(C[i-1], D[i-1], i)\n",
    "            round_keys[i] = self.__permute(np.concatenate((C[i], D[i])), self.PC2)\n",
    "            L[i], R[i] = self.__iterative_encrypt(L[i-1], R[i-1], round_keys[i])\n",
    "        \n",
    "        return np.concatenate((R[r-1], L[r-1]))\n",
    "    \n",
    "    # def __Feistel_decrypt(self, text, r, values):\n",
    "\n",
    "    def __iterative_encrypt(self, L, R, round_key):\n",
    "        next_L = R\n",
    "        next_R = L ^ self.__internal_block_encrypt(R, round_key)\n",
    "\n",
    "        return next_L, next_R\n",
    "    \n",
    "    def __internal_block_encrypt(self, R, round_key):\n",
    "        expanded = self.__permute(R, self.E)\n",
    "        B = expanded ^ round_key\n",
    "        B = B.reshape(8, -1)\n",
    "        C = self.__S_boxes(B)\n",
    "        C = C.reshape(-1,)\n",
    "        retval = self.__permute(C, self.P)\n",
    "\n",
    "        return retval\n",
    "\n",
    "    # def __iterative_decrypt(self, L, R):\n",
    "\n",
    "    def __S_boxes(self, B):\n",
    "        C = np.zeros((8, 4), dtype=int)\n",
    "        for i in range(8):\n",
    "            C[i] = self.__S_box(i, B[i])\n",
    "        \n",
    "        return C\n",
    "\n",
    "    def __S_box(self, i, B_i):\n",
    "        row = B_i[0] * 2 + B_i[5]\n",
    "        col = B_i[1] * 8 + B_i[2] * 4 + B_i[3] * 2 + B_i[4]\n",
    "\n",
    "        value = self.S[i][row][col]\n",
    "\n",
    "        retval = np.zeros(4)\n",
    "        for i in range(4):\n",
    "            retval[3-i] = value % 2\n",
    "            value = value // 2\n",
    "        \n",
    "        return retval\n",
    "    \n",
    "    def __get_initial_CD(self):\n",
    "        CD = self.__permute(self.des_key_bin, self.PC1)\n",
    "        length = CD.shape[0]\n",
    "        C = CD[:length // 2]\n",
    "        D = CD[length // 2:]\n",
    "\n",
    "        return C, D\n",
    "    \n",
    "    def __update_CD(self, C, D, i):\n",
    "        value = self.values[i]\n",
    "        next_C = np.roll(C, -value)\n",
    "        next_D = np.roll(D, -value)\n",
    "\n",
    "        return next_C, next_D"
   ]
  },
  {
   "cell_type": "code",
   "execution_count": 19,
   "metadata": {},
   "outputs": [
    {
     "name": "stdout",
     "output_type": "stream",
     "text": [
      "0000000101000010010101000101000110111000111110010110011000111101"
     ]
    }
   ],
   "source": [
    "des = DES(key='133457799BBCDFF1')\n",
    "\n",
    "cipher = des.encrypt('0123456789ABCDEF')\n",
    "\n",
    "for i in cipher:\n",
    "    print(i, end='')"
   ]
  },
  {
   "cell_type": "code",
   "execution_count": 18,
   "metadata": {},
   "outputs": [
    {
     "name": "stderr",
     "output_type": "stream",
     "text": [
      "[NbConvertApp] Converting notebook des.ipynb to python\n"
     ]
    },
    {
     "name": "stdout",
     "output_type": "stream",
     "text": [
      "Saved as auto_encoder.py\n"
     ]
    },
    {
     "name": "stderr",
     "output_type": "stream",
     "text": [
      "[NbConvertApp] Writing 4230 bytes to des.py\n"
     ]
    }
   ],
   "source": [
    "if 'get_ipython' in globals():\n",
    "    import subprocess\n",
    "    subprocess.run(['jupyter', 'nbconvert', '--to', 'python', '*.ipynb'])\n",
    "    print('Saved as auto_encoder.py')"
   ]
  }
 ],
 "metadata": {
  "kernelspec": {
   "display_name": "Python 3",
   "language": "python",
   "name": "python3"
  },
  "language_info": {
   "codemirror_mode": {
    "name": "ipython",
    "version": 3
   },
   "file_extension": ".py",
   "mimetype": "text/x-python",
   "name": "python",
   "nbconvert_exporter": "python",
   "pygments_lexer": "ipython3",
   "version": "3.9.6"
  },
  "orig_nbformat": 4
 },
 "nbformat": 4,
 "nbformat_minor": 2
}
